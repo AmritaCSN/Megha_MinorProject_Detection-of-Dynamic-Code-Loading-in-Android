{
 "cells": [
  {
   "cell_type": "markdown",
   "metadata": {},
   "source": [
    "# Necessary Libraries"
   ]
  },
  {
   "cell_type": "code",
   "execution_count": 5,
   "metadata": {},
   "outputs": [],
   "source": [
    "import numpy as np\n",
    "import pandas as pd\n",
    "from pandas import DataFrame as dataframe\n",
    "import matplotlib.pyplot as plt\n",
    "import seaborn as sns\n",
    "import os\n",
    "from os.path import join\n",
    "\n",
    "from sklearn.model_selection import train_test_split, cross_val_score, cross_val_predict, StratifiedKFold\n",
    "from sklearn.ensemble import RandomForestClassifier\n",
    "from sklearn.metrics import classification_report, accuracy_score, precision_score, recall_score, f1_score, confusion_matrix, ConfusionMatrixDisplay\n",
    "import time\n",
    "\n",
    "from imblearn.under_sampling import RandomUnderSampler\n",
    "from imblearn.over_sampling import SMOTE\n"
   ]
  },
  {
   "cell_type": "markdown",
   "metadata": {},
   "source": [
    "# Load Dataset"
   ]
  },
  {
   "cell_type": "code",
   "execution_count": 3,
   "metadata": {},
   "outputs": [
    {
     "name": "stdout",
     "output_type": "stream",
     "text": [
      "c:\\Users\\megha\\Documents\\MTech\\MinorProject_PlayProtect\\Final_Review_Implementation\\Code_Review_GitHub_Repo\\Data\\MH-100K_dataset\\processed\n"
     ]
    }
   ],
   "source": [
    "dataset_path = os.path.join(os.getcwd(), '..', 'Data', 'MH-100K_dataset', 'processed')\n",
    "\n",
    "dataset_path = os.path.abspath(dataset_path)\n",
    "\n",
    "print(dataset_path)"
   ]
  },
  {
   "cell_type": "code",
   "execution_count": 4,
   "metadata": {},
   "outputs": [
    {
     "data": {
      "text/html": [
       "<div>\n",
       "<style scoped>\n",
       "    .dataframe tbody tr th:only-of-type {\n",
       "        vertical-align: middle;\n",
       "    }\n",
       "\n",
       "    .dataframe tbody tr th {\n",
       "        vertical-align: top;\n",
       "    }\n",
       "\n",
       "    .dataframe thead th {\n",
       "        text-align: right;\n",
       "    }\n",
       "</style>\n",
       "<table border=\"1\" class=\"dataframe\">\n",
       "  <thead>\n",
       "    <tr style=\"text-align: right;\">\n",
       "      <th></th>\n",
       "      <th>filename</th>\n",
       "    </tr>\n",
       "  </thead>\n",
       "  <tbody>\n",
       "    <tr>\n",
       "      <th>0</th>\n",
       "      <td>mh100-features-all.csv</td>\n",
       "    </tr>\n",
       "    <tr>\n",
       "      <th>1</th>\n",
       "      <td>mh100-features-classes.csv</td>\n",
       "    </tr>\n",
       "    <tr>\n",
       "      <th>2</th>\n",
       "      <td>mh100.npy</td>\n",
       "    </tr>\n",
       "    <tr>\n",
       "      <th>3</th>\n",
       "      <td>mh100_labels.csv</td>\n",
       "    </tr>\n",
       "    <tr>\n",
       "      <th>4</th>\n",
       "      <td>mh100_vt-labels.csv</td>\n",
       "    </tr>\n",
       "    <tr>\n",
       "      <th>5</th>\n",
       "      <td>mh_100k_dataset.csv</td>\n",
       "    </tr>\n",
       "  </tbody>\n",
       "</table>\n",
       "</div>"
      ],
      "text/plain": [
       "                     filename\n",
       "0      mh100-features-all.csv\n",
       "1  mh100-features-classes.csv\n",
       "2                   mh100.npy\n",
       "3            mh100_labels.csv\n",
       "4         mh100_vt-labels.csv\n",
       "5         mh_100k_dataset.csv"
      ]
     },
     "execution_count": 4,
     "metadata": {},
     "output_type": "execute_result"
    }
   ],
   "source": [
    "files = dataframe(os.listdir(dataset_path) , columns=['filename'])\n",
    "files"
   ]
  },
  {
   "cell_type": "code",
   "execution_count": 6,
   "metadata": {},
   "outputs": [
    {
     "name": "stdout",
     "output_type": "stream",
     "text": [
      "Time taken to load the dataset: 14.3941 minutes\n"
     ]
    }
   ],
   "source": [
    "# Loading the dataset\n",
    "start_time = time.time()\n",
    "\n",
    "data = pd.read_csv(os.path.join(dataset_path, 'mh_100k_dataset.csv'))\n",
    "\n",
    "end_time = time.time()\n",
    "time_taken_minutes = (end_time - start_time) / 60\n",
    "\n",
    "print(f\"Time taken to load the dataset: {time_taken_minutes:.4f} minutes\")"
   ]
  },
  {
   "cell_type": "code",
   "execution_count": 7,
   "metadata": {},
   "outputs": [
    {
     "data": {
      "text/plain": [
       "(70306, 24842)"
      ]
     },
     "execution_count": 7,
     "metadata": {},
     "output_type": "execute_result"
    }
   ],
   "source": [
    "data.shape"
   ]
  },
  {
   "cell_type": "code",
   "execution_count": 8,
   "metadata": {},
   "outputs": [
    {
     "data": {
      "text/html": [
       "<div>\n",
       "<style scoped>\n",
       "    .dataframe tbody tr th:only-of-type {\n",
       "        vertical-align: middle;\n",
       "    }\n",
       "\n",
       "    .dataframe tbody tr th {\n",
       "        vertical-align: top;\n",
       "    }\n",
       "\n",
       "    .dataframe thead th {\n",
       "        text-align: right;\n",
       "    }\n",
       "</style>\n",
       "<table border=\"1\" class=\"dataframe\">\n",
       "  <thead>\n",
       "    <tr style=\"text-align: right;\">\n",
       "      <th></th>\n",
       "      <th>1-class</th>\n",
       "      <th>2-class</th>\n",
       "      <th>3-class</th>\n",
       "      <th>4-class</th>\n",
       "      <th>5-class</th>\n",
       "      <th>6-class</th>\n",
       "      <th>7-class</th>\n",
       "      <th>8-class</th>\n",
       "      <th>9-class</th>\n",
       "      <th>10-class</th>\n",
       "      <th>...</th>\n",
       "      <th>31-class</th>\n",
       "      <th>32-class</th>\n",
       "      <th>33-class</th>\n",
       "      <th>34-class</th>\n",
       "      <th>37-class</th>\n",
       "      <th>38-class</th>\n",
       "      <th>39-class</th>\n",
       "      <th>41-class</th>\n",
       "      <th>43-class</th>\n",
       "      <th>46-class</th>\n",
       "    </tr>\n",
       "  </thead>\n",
       "  <tbody>\n",
       "    <tr>\n",
       "      <th>0</th>\n",
       "      <td>0</td>\n",
       "      <td>0</td>\n",
       "      <td>0</td>\n",
       "      <td>0</td>\n",
       "      <td>0</td>\n",
       "      <td>0</td>\n",
       "      <td>0</td>\n",
       "      <td>0</td>\n",
       "      <td>0</td>\n",
       "      <td>0</td>\n",
       "      <td>...</td>\n",
       "      <td>0</td>\n",
       "      <td>0</td>\n",
       "      <td>0</td>\n",
       "      <td>0</td>\n",
       "      <td>0</td>\n",
       "      <td>0</td>\n",
       "      <td>0</td>\n",
       "      <td>0</td>\n",
       "      <td>0</td>\n",
       "      <td>0</td>\n",
       "    </tr>\n",
       "    <tr>\n",
       "      <th>1</th>\n",
       "      <td>0</td>\n",
       "      <td>0</td>\n",
       "      <td>0</td>\n",
       "      <td>0</td>\n",
       "      <td>0</td>\n",
       "      <td>0</td>\n",
       "      <td>0</td>\n",
       "      <td>0</td>\n",
       "      <td>0</td>\n",
       "      <td>0</td>\n",
       "      <td>...</td>\n",
       "      <td>0</td>\n",
       "      <td>0</td>\n",
       "      <td>0</td>\n",
       "      <td>0</td>\n",
       "      <td>0</td>\n",
       "      <td>0</td>\n",
       "      <td>0</td>\n",
       "      <td>0</td>\n",
       "      <td>0</td>\n",
       "      <td>0</td>\n",
       "    </tr>\n",
       "    <tr>\n",
       "      <th>2</th>\n",
       "      <td>0</td>\n",
       "      <td>0</td>\n",
       "      <td>0</td>\n",
       "      <td>0</td>\n",
       "      <td>0</td>\n",
       "      <td>0</td>\n",
       "      <td>0</td>\n",
       "      <td>0</td>\n",
       "      <td>0</td>\n",
       "      <td>0</td>\n",
       "      <td>...</td>\n",
       "      <td>0</td>\n",
       "      <td>0</td>\n",
       "      <td>0</td>\n",
       "      <td>0</td>\n",
       "      <td>0</td>\n",
       "      <td>0</td>\n",
       "      <td>0</td>\n",
       "      <td>0</td>\n",
       "      <td>0</td>\n",
       "      <td>0</td>\n",
       "    </tr>\n",
       "    <tr>\n",
       "      <th>3</th>\n",
       "      <td>1</td>\n",
       "      <td>1</td>\n",
       "      <td>1</td>\n",
       "      <td>1</td>\n",
       "      <td>1</td>\n",
       "      <td>0</td>\n",
       "      <td>0</td>\n",
       "      <td>0</td>\n",
       "      <td>0</td>\n",
       "      <td>0</td>\n",
       "      <td>...</td>\n",
       "      <td>0</td>\n",
       "      <td>0</td>\n",
       "      <td>0</td>\n",
       "      <td>0</td>\n",
       "      <td>0</td>\n",
       "      <td>0</td>\n",
       "      <td>0</td>\n",
       "      <td>0</td>\n",
       "      <td>0</td>\n",
       "      <td>0</td>\n",
       "    </tr>\n",
       "    <tr>\n",
       "      <th>4</th>\n",
       "      <td>1</td>\n",
       "      <td>1</td>\n",
       "      <td>0</td>\n",
       "      <td>0</td>\n",
       "      <td>0</td>\n",
       "      <td>0</td>\n",
       "      <td>0</td>\n",
       "      <td>0</td>\n",
       "      <td>0</td>\n",
       "      <td>0</td>\n",
       "      <td>...</td>\n",
       "      <td>0</td>\n",
       "      <td>0</td>\n",
       "      <td>0</td>\n",
       "      <td>0</td>\n",
       "      <td>0</td>\n",
       "      <td>0</td>\n",
       "      <td>0</td>\n",
       "      <td>0</td>\n",
       "      <td>0</td>\n",
       "      <td>0</td>\n",
       "    </tr>\n",
       "    <tr>\n",
       "      <th>...</th>\n",
       "      <td>...</td>\n",
       "      <td>...</td>\n",
       "      <td>...</td>\n",
       "      <td>...</td>\n",
       "      <td>...</td>\n",
       "      <td>...</td>\n",
       "      <td>...</td>\n",
       "      <td>...</td>\n",
       "      <td>...</td>\n",
       "      <td>...</td>\n",
       "      <td>...</td>\n",
       "      <td>...</td>\n",
       "      <td>...</td>\n",
       "      <td>...</td>\n",
       "      <td>...</td>\n",
       "      <td>...</td>\n",
       "      <td>...</td>\n",
       "      <td>...</td>\n",
       "      <td>...</td>\n",
       "      <td>...</td>\n",
       "      <td>...</td>\n",
       "    </tr>\n",
       "    <tr>\n",
       "      <th>101929</th>\n",
       "      <td>1</td>\n",
       "      <td>1</td>\n",
       "      <td>1</td>\n",
       "      <td>1</td>\n",
       "      <td>1</td>\n",
       "      <td>1</td>\n",
       "      <td>0</td>\n",
       "      <td>0</td>\n",
       "      <td>0</td>\n",
       "      <td>0</td>\n",
       "      <td>...</td>\n",
       "      <td>0</td>\n",
       "      <td>0</td>\n",
       "      <td>0</td>\n",
       "      <td>0</td>\n",
       "      <td>0</td>\n",
       "      <td>0</td>\n",
       "      <td>0</td>\n",
       "      <td>0</td>\n",
       "      <td>0</td>\n",
       "      <td>0</td>\n",
       "    </tr>\n",
       "    <tr>\n",
       "      <th>101930</th>\n",
       "      <td>0</td>\n",
       "      <td>0</td>\n",
       "      <td>0</td>\n",
       "      <td>0</td>\n",
       "      <td>0</td>\n",
       "      <td>0</td>\n",
       "      <td>0</td>\n",
       "      <td>0</td>\n",
       "      <td>0</td>\n",
       "      <td>0</td>\n",
       "      <td>...</td>\n",
       "      <td>0</td>\n",
       "      <td>0</td>\n",
       "      <td>0</td>\n",
       "      <td>0</td>\n",
       "      <td>0</td>\n",
       "      <td>0</td>\n",
       "      <td>0</td>\n",
       "      <td>0</td>\n",
       "      <td>0</td>\n",
       "      <td>0</td>\n",
       "    </tr>\n",
       "    <tr>\n",
       "      <th>101931</th>\n",
       "      <td>0</td>\n",
       "      <td>0</td>\n",
       "      <td>0</td>\n",
       "      <td>0</td>\n",
       "      <td>0</td>\n",
       "      <td>0</td>\n",
       "      <td>0</td>\n",
       "      <td>0</td>\n",
       "      <td>0</td>\n",
       "      <td>0</td>\n",
       "      <td>...</td>\n",
       "      <td>0</td>\n",
       "      <td>0</td>\n",
       "      <td>0</td>\n",
       "      <td>0</td>\n",
       "      <td>0</td>\n",
       "      <td>0</td>\n",
       "      <td>0</td>\n",
       "      <td>0</td>\n",
       "      <td>0</td>\n",
       "      <td>0</td>\n",
       "    </tr>\n",
       "    <tr>\n",
       "      <th>101932</th>\n",
       "      <td>0</td>\n",
       "      <td>0</td>\n",
       "      <td>0</td>\n",
       "      <td>0</td>\n",
       "      <td>0</td>\n",
       "      <td>0</td>\n",
       "      <td>0</td>\n",
       "      <td>0</td>\n",
       "      <td>0</td>\n",
       "      <td>0</td>\n",
       "      <td>...</td>\n",
       "      <td>0</td>\n",
       "      <td>0</td>\n",
       "      <td>0</td>\n",
       "      <td>0</td>\n",
       "      <td>0</td>\n",
       "      <td>0</td>\n",
       "      <td>0</td>\n",
       "      <td>0</td>\n",
       "      <td>0</td>\n",
       "      <td>0</td>\n",
       "    </tr>\n",
       "    <tr>\n",
       "      <th>101933</th>\n",
       "      <td>0</td>\n",
       "      <td>0</td>\n",
       "      <td>0</td>\n",
       "      <td>0</td>\n",
       "      <td>0</td>\n",
       "      <td>0</td>\n",
       "      <td>0</td>\n",
       "      <td>0</td>\n",
       "      <td>0</td>\n",
       "      <td>0</td>\n",
       "      <td>...</td>\n",
       "      <td>0</td>\n",
       "      <td>0</td>\n",
       "      <td>0</td>\n",
       "      <td>0</td>\n",
       "      <td>0</td>\n",
       "      <td>0</td>\n",
       "      <td>0</td>\n",
       "      <td>0</td>\n",
       "      <td>0</td>\n",
       "      <td>0</td>\n",
       "    </tr>\n",
       "  </tbody>\n",
       "</table>\n",
       "<p>101934 rows × 40 columns</p>\n",
       "</div>"
      ],
      "text/plain": [
       "        1-class  2-class  3-class  4-class  5-class  6-class  7-class  \\\n",
       "0             0        0        0        0        0        0        0   \n",
       "1             0        0        0        0        0        0        0   \n",
       "2             0        0        0        0        0        0        0   \n",
       "3             1        1        1        1        1        0        0   \n",
       "4             1        1        0        0        0        0        0   \n",
       "...         ...      ...      ...      ...      ...      ...      ...   \n",
       "101929        1        1        1        1        1        1        0   \n",
       "101930        0        0        0        0        0        0        0   \n",
       "101931        0        0        0        0        0        0        0   \n",
       "101932        0        0        0        0        0        0        0   \n",
       "101933        0        0        0        0        0        0        0   \n",
       "\n",
       "        8-class  9-class  10-class  ...  31-class  32-class  33-class  \\\n",
       "0             0        0         0  ...         0         0         0   \n",
       "1             0        0         0  ...         0         0         0   \n",
       "2             0        0         0  ...         0         0         0   \n",
       "3             0        0         0  ...         0         0         0   \n",
       "4             0        0         0  ...         0         0         0   \n",
       "...         ...      ...       ...  ...       ...       ...       ...   \n",
       "101929        0        0         0  ...         0         0         0   \n",
       "101930        0        0         0  ...         0         0         0   \n",
       "101931        0        0         0  ...         0         0         0   \n",
       "101932        0        0         0  ...         0         0         0   \n",
       "101933        0        0         0  ...         0         0         0   \n",
       "\n",
       "        34-class  37-class  38-class  39-class  41-class  43-class  46-class  \n",
       "0              0         0         0         0         0         0         0  \n",
       "1              0         0         0         0         0         0         0  \n",
       "2              0         0         0         0         0         0         0  \n",
       "3              0         0         0         0         0         0         0  \n",
       "4              0         0         0         0         0         0         0  \n",
       "...          ...       ...       ...       ...       ...       ...       ...  \n",
       "101929         0         0         0         0         0         0         0  \n",
       "101930         0         0         0         0         0         0         0  \n",
       "101931         0         0         0         0         0         0         0  \n",
       "101932         0         0         0         0         0         0         0  \n",
       "101933         0         0         0         0         0         0         0  \n",
       "\n",
       "[101934 rows x 40 columns]"
      ]
     },
     "execution_count": 8,
     "metadata": {},
     "output_type": "execute_result"
    }
   ],
   "source": [
    "# Loading the labels\n",
    "vt_labels = pd.read_csv(join(dataset_path,'mh100_vt-labels.csv'))\n",
    "vt_labels.drop(columns=['index'], inplace=True)\n",
    "vt_labels"
   ]
  },
  {
   "cell_type": "code",
   "execution_count": 9,
   "metadata": {},
   "outputs": [
    {
     "data": {
      "text/plain": [
       "4-class\n",
       "0    92134\n",
       "1     9800\n",
       "Name: count, dtype: int64"
      ]
     },
     "execution_count": 9,
     "metadata": {},
     "output_type": "execute_result"
    }
   ],
   "source": [
    "vt_labels['4-class'].value_counts()"
   ]
  },
  {
   "cell_type": "markdown",
   "metadata": {},
   "source": [
    "# Create smaller dataset with 10 features"
   ]
  },
  {
   "cell_type": "code",
   "execution_count": 10,
   "metadata": {},
   "outputs": [
    {
     "data": {
      "text/plain": [
       "(70306, 10)"
      ]
     },
     "execution_count": 10,
     "metadata": {},
     "output_type": "execute_result"
    }
   ],
   "source": [
    "# Feature set with 10 features\n",
    "\n",
    "columns_to_read_10 =['Permission::GET_ACCOUNTS','Permission::BROADCAST_STICKY',\n",
    "                 'Permission::ACCESS_NETWORK_STATE','Permission::READ_CONTACTS',\n",
    "                'Permission::CHANGE_NETWORK_STATE','Permission::BLUETOOTH','Permission::WAKE_LOCK',\n",
    "                'Permission::READ_SMS','Permission::ACCESS_COARSE_LOCATION','Permission::VIBRATE']\n",
    "data10 = data[columns_to_read_10]\n",
    "data10.shape"
   ]
  },
  {
   "cell_type": "markdown",
   "metadata": {},
   "source": [
    "## Dataset splitting"
   ]
  },
  {
   "cell_type": "code",
   "execution_count": 11,
   "metadata": {},
   "outputs": [
    {
     "name": "stdout",
     "output_type": "stream",
     "text": [
      "Train set shape: (56244, 10) (56244,)\n",
      "Test set shape: (14062, 10) (14062,)\n"
     ]
    }
   ],
   "source": [
    "id_train, id_test = train_test_split(range(0, data.shape[0]), test_size=0.2, random_state=0, shuffle=True)\n",
    "X_train = data10.iloc[id_train]\n",
    "X_test = data10.iloc[id_test]\n",
    "y_train = vt_labels.iloc[id_train]['4-class']\n",
    "y_test = vt_labels.iloc[id_test]['4-class']\n",
    "\n",
    "print(\"Train set shape:\", X_train.shape, y_train.shape)\n",
    "print(\"Test set shape:\", X_test.shape, y_test.shape)"
   ]
  },
  {
   "cell_type": "code",
   "execution_count": 12,
   "metadata": {},
   "outputs": [
    {
     "data": {
      "text/plain": [
       "4-class\n",
       "0    52264\n",
       "1     3980\n",
       "Name: count, dtype: int64"
      ]
     },
     "execution_count": 12,
     "metadata": {},
     "output_type": "execute_result"
    }
   ],
   "source": [
    "y_train.value_counts()"
   ]
  },
  {
   "cell_type": "code",
   "execution_count": 13,
   "metadata": {},
   "outputs": [
    {
     "data": {
      "text/plain": [
       "4-class\n",
       "0    13019\n",
       "1     1043\n",
       "Name: count, dtype: int64"
      ]
     },
     "execution_count": 13,
     "metadata": {},
     "output_type": "execute_result"
    }
   ],
   "source": [
    "y_test.value_counts()"
   ]
  },
  {
   "cell_type": "markdown",
   "metadata": {},
   "source": [
    "## Dataset Balancing"
   ]
  },
  {
   "cell_type": "code",
   "execution_count": 43,
   "metadata": {},
   "outputs": [],
   "source": [
    "# To balance dataset using smote (oversampling)\n",
    "def balance_using_smote(X_train, y_train):\n",
    "    smote = SMOTE(sampling_strategy='auto', random_state=42)  # 'auto' will balance all classes\n",
    "    X_res, y_res = smote.fit_resample(X_train.fillna(0), y_train.fillna(0))\n",
    "    print(f\"Original dataset size: {len(y_train)}\")\n",
    "    print(f\"Balanced dataset size: {len(y_res)}\")\n",
    "    return X_res, y_res"
   ]
  },
  {
   "cell_type": "code",
   "execution_count": 44,
   "metadata": {},
   "outputs": [],
   "source": [
    "# To balance dataset using undersampling\n",
    "def balance_using_undersampling(X_train, y_train):\n",
    "    undersampler = RandomUnderSampler(sampling_strategy='auto', random_state=42)  # 'auto' will balance all classes\n",
    "    X_res, y_res = undersampler.fit_resample(X_train, y_train)\n",
    "    print(f\"Original dataset size: {len(y_train)}\")\n",
    "    print(f\"Balanced dataset size: {len(y_res)}\")\n",
    "    return X_res, y_res\n"
   ]
  },
  {
   "cell_type": "code",
   "execution_count": 45,
   "metadata": {},
   "outputs": [
    {
     "name": "stdout",
     "output_type": "stream",
     "text": [
      "Original class distribution:\n",
      "(56244, 10) (56244,)\n",
      "4-class\n",
      "0    52264\n",
      "1     3980\n",
      "Name: count, dtype: int64\n",
      "Original dataset size: 56244\n",
      "Balanced dataset size: 104528\n",
      "\n",
      "SMOTE Balanced class distribution:\n",
      "(104528, 10) (104528,)\n",
      "4-class\n",
      "0    52264\n",
      "1    52264\n",
      "Name: count, dtype: int64\n",
      "Original dataset size: 56244\n",
      "Balanced dataset size: 7960\n",
      "\n",
      "Undersampling Balanced class distribution:\n",
      "(7960, 10) (7960,)\n",
      "4-class\n",
      "0    3980\n",
      "1    3980\n",
      "Name: count, dtype: int64\n"
     ]
    }
   ],
   "source": [
    "#Printing  distribution of original and balanced datasets\n",
    "\n",
    "print(\"Original class distribution:\")\n",
    "print(X_train.shape, y_train.shape)\n",
    "print(y_train.value_counts())\n",
    "\n",
    "X_train_balanced_smote, y_train_balanced_smote = balance_using_smote(X_train, y_train)\n",
    "\n",
    "print(\"\\nSMOTE Balanced class distribution:\")\n",
    "print(X_train_balanced_smote.shape, y_train_balanced_smote.shape)\n",
    "print(y_train_balanced_smote.value_counts())\n",
    "\n",
    "X_train_balanced_undersample, y_train_balanced_undersample = balance_using_undersampling(X_train, y_train)\n",
    "\n",
    "print(\"\\nUndersampling Balanced class distribution:\")\n",
    "print(X_train_balanced_undersample.shape, y_train_balanced_undersample.shape)\n",
    "print(y_train_balanced_undersample.value_counts())"
   ]
  },
  {
   "cell_type": "markdown",
   "metadata": {},
   "source": [
    "# Model Training and Testing"
   ]
  },
  {
   "cell_type": "code",
   "execution_count": 46,
   "metadata": {},
   "outputs": [],
   "source": [
    "# Function to evaluate the model and return metrics in a dataframe\n",
    "def evaluate_model(X_train, y_train, X_test, y_test):\n",
    "   \n",
    "    rf_model = RandomForestClassifier(random_state=42)\n",
    "    rf_model.fit(X_train, y_train)\n",
    "\n",
    "    y_pred = rf_model.predict(X_test)\n",
    "       \n",
    "    accuracy = accuracy_score(y_test, y_pred)\n",
    "    recall = recall_score(y_test, y_pred, average='macro')\n",
    "    precision = precision_score(y_test, y_pred, average='macro')\n",
    "    f1 = f1_score(y_test, y_pred, average='macro')\n",
    "    \n",
    "    return {\n",
    "        'Dataset':'',\n",
    "        'Accuracy': accuracy,\n",
    "        'Recall': recall,\n",
    "        'Precision': precision,\n",
    "        'F1 Score': f1\n",
    "    }, y_pred"
   ]
  },
  {
   "cell_type": "markdown",
   "metadata": {},
   "source": [
    "## Comparison of normal vs balanced datasets"
   ]
  },
  {
   "cell_type": "code",
   "execution_count": 47,
   "metadata": {},
   "outputs": [
    {
     "data": {
      "text/html": [
       "<div>\n",
       "<style scoped>\n",
       "    .dataframe tbody tr th:only-of-type {\n",
       "        vertical-align: middle;\n",
       "    }\n",
       "\n",
       "    .dataframe tbody tr th {\n",
       "        vertical-align: top;\n",
       "    }\n",
       "\n",
       "    .dataframe thead th {\n",
       "        text-align: right;\n",
       "    }\n",
       "</style>\n",
       "<table border=\"1\" class=\"dataframe\">\n",
       "  <thead>\n",
       "    <tr style=\"text-align: right;\">\n",
       "      <th></th>\n",
       "      <th>Dataset</th>\n",
       "      <th>Accuracy</th>\n",
       "      <th>Recall</th>\n",
       "      <th>Precision</th>\n",
       "      <th>F1 Score</th>\n",
       "    </tr>\n",
       "  </thead>\n",
       "  <tbody>\n",
       "    <tr>\n",
       "      <th>0</th>\n",
       "      <td>Original</td>\n",
       "      <td>0.928531</td>\n",
       "      <td>0.607295</td>\n",
       "      <td>0.742015</td>\n",
       "      <td>0.642753</td>\n",
       "    </tr>\n",
       "    <tr>\n",
       "      <th>1</th>\n",
       "      <td>Balanced with SMOTE</td>\n",
       "      <td>0.877045</td>\n",
       "      <td>0.775726</td>\n",
       "      <td>0.651676</td>\n",
       "      <td>0.686494</td>\n",
       "    </tr>\n",
       "    <tr>\n",
       "      <th>2</th>\n",
       "      <td>Balanced with Undersampling</td>\n",
       "      <td>0.872493</td>\n",
       "      <td>0.781647</td>\n",
       "      <td>0.648875</td>\n",
       "      <td>0.683960</td>\n",
       "    </tr>\n",
       "  </tbody>\n",
       "</table>\n",
       "</div>"
      ],
      "text/plain": [
       "                       Dataset  Accuracy    Recall  Precision  F1 Score\n",
       "0                     Original  0.928531  0.607295   0.742015  0.642753\n",
       "1          Balanced with SMOTE  0.877045  0.775726   0.651676  0.686494\n",
       "2  Balanced with Undersampling  0.872493  0.781647   0.648875  0.683960"
      ]
     },
     "execution_count": 47,
     "metadata": {},
     "output_type": "execute_result"
    }
   ],
   "source": [
    "\n",
    "results = []\n",
    "\n",
    "original_metrics, y_pred_orig = evaluate_model(X_train, y_train, X_test, y_test)\n",
    "original_metrics['Dataset'] = 'Original'\n",
    "results.append(original_metrics)\n",
    "\n",
    "smote_metrics, y_pred_smote = evaluate_model(X_train_balanced_smote, y_train_balanced_smote, X_test, y_test)\n",
    "smote_metrics['Dataset'] = 'Balanced with SMOTE'\n",
    "results.append(smote_metrics)\n",
    "\n",
    "\n",
    "undersample_metrics, y_pred_undersample = evaluate_model(X_train_balanced_undersample, y_train_balanced_undersample, X_test, y_test)\n",
    "undersample_metrics['Dataset'] = 'Balanced with Undersampling'\n",
    "results.append(undersample_metrics)\n",
    "\n",
    "\n",
    "metrics_df = pd.DataFrame(results)\n",
    "metrics_df"
   ]
  },
  {
   "cell_type": "code",
   "execution_count": 48,
   "metadata": {},
   "outputs": [
    {
     "data": {
      "image/png": "[encoded data removed]",
      "text/plain": [
       "<Figure size 1800x600 with 3 Axes>"
      ]
     },
     "metadata": {},
     "output_type": "display_data"
    }
   ],
   "source": [
    "# Confusion matrices for normal and balanced datasets\n",
    "\n",
    "datasets = ['Original', 'SMOTE', 'Undersampling']\n",
    "y_preds = [y_pred_orig, y_pred_smote, y_pred_undersample]\n",
    "\n",
    "fig, axes = plt.subplots(1, 3, figsize=(18, 6))  \n",
    "\n",
    "for i, dataset in enumerate(datasets):\n",
    "   \n",
    "    cm = confusion_matrix(y_test, y_preds[i])\n",
    "    \n",
    "    cm = cm[::-1]  \n",
    "\n",
    "    sns.heatmap(cm, annot=True, fmt='d', cmap='PuBu', xticklabels=['Benign', 'Malicious'], yticklabels=['Malicious', 'Benign'], \n",
    "                ax=axes[i], cbar=False, annot_kws={\"size\": 14}) \n",
    "    \n",
    "    axes[i].set_title(f'Confusion Matrix ({dataset})', fontsize=16)\n",
    "    axes[i].set_xlabel('Predicted', fontsize=14) \n",
    "    axes[i].set_ylabel('Actual', fontsize=14) \n",
    "\n",
    "plt.subplots_adjust(wspace=0.4)  \n",
    "\n",
    "plt.tight_layout()\n",
    "plt.show()\n"
   ]
  },
  {
   "cell_type": "markdown",
   "metadata": {},
   "source": [
    "## Using smote balanced dataset"
   ]
  },
  {
   "cell_type": "code",
   "execution_count": 49,
   "metadata": {},
   "outputs": [],
   "source": [
    "# Feature set with 4 features\n",
    "columns_to_read_4=['Permission::READ_CONTACTS','Permission::WAKE_LOCK',\n",
    "                'Permission::READ_SMS','Permission::VIBRATE']"
   ]
  },
  {
   "cell_type": "markdown",
   "metadata": {},
   "source": [
    "## Creating smote balanced datasets with the two feature sets (4 and 10 features)"
   ]
  },
  {
   "cell_type": "code",
   "execution_count": 50,
   "metadata": {},
   "outputs": [
    {
     "name": "stdout",
     "output_type": "stream",
     "text": [
      "Original dataset size: 70306\n",
      "Balanced dataset size: 130566\n",
      "Original dataset size: 70306\n",
      "Balanced dataset size: 130566\n",
      "(130566, 10)\n",
      "(130566,)\n",
      "(70306, 4)\n",
      "(70306,)\n"
     ]
    }
   ],
   "source": [
    "X_train_4 = data[columns_to_read_4]\n",
    "y_train_4 = vt_labels['4-class'][0:data.shape[0]]\n",
    "X_train_4_bal, y_train_4_bal = balance_using_smote(X_train_4, y_train_4)\n",
    "\n",
    "X_train_10 = data[columns_to_read_10]\n",
    "y_train_10 = vt_labels['4-class'][0:data.shape[0]]\n",
    "X_train_10_bal, y_train_10_bal = balance_using_smote(X_train_10, y_train_10)\n",
    "\n",
    "print(X_train_10_bal.shape)\n",
    "print(y_train_10_bal.shape)\n",
    "\n",
    "print(X_train_4.shape)\n",
    "print(y_train_4.shape)"
   ]
  },
  {
   "cell_type": "markdown",
   "metadata": {},
   "source": [
    "## Loading the test dataset"
   ]
  },
  {
   "cell_type": "code",
   "execution_count": 51,
   "metadata": {},
   "outputs": [],
   "source": [
    "testset_path = os.path.join(os.getcwd(), '..')\n",
    "data_test = pd.read_excel(os.path.join(testset_path, 'Data/Test_Dataset_1.xlsx'))\n",
    "\n",
    "# Creating data and labels for both feature sets\n",
    "X_test_ = data_test.iloc[:, 1:].copy() \n",
    "y_test_ = len(X_test_)*[1]\n",
    "\n",
    "X_test_4 = X_test_[columns_to_read_4]\n",
    "X_test_10 = X_test_[columns_to_read_10]"
   ]
  },
  {
   "cell_type": "markdown",
   "metadata": {},
   "source": [
    "## Training model for both feature sets"
   ]
  },
  {
   "cell_type": "code",
   "execution_count": 52,
   "metadata": {},
   "outputs": [],
   "source": [
    "model_4 = RandomForestClassifier(random_state=2024)\n",
    "model_10 = RandomForestClassifier(random_state=2024)\n",
    "\n",
    "model_4.fit(X_train_4_bal, y_train_4_bal)\n",
    "model_10.fit(X_train_10_bal, y_train_10_bal)\n",
    "\n",
    "y_pred_4 = model_4.predict(X_test_4)\n",
    "y_pred_10 = model_10.predict(X_test_10)"
   ]
  },
  {
   "cell_type": "markdown",
   "metadata": {},
   "source": [
    "## Confusion matrices for both feature sets"
   ]
  },
  {
   "cell_type": "code",
   "execution_count": 53,
   "metadata": {},
   "outputs": [
    {
     "data": {
      "image/png": "[encoded data removed]",
      "text/plain": [
       "<Figure size 800x400 with 2 Axes>"
      ]
     },
     "metadata": {},
     "output_type": "display_data"
    }
   ],
   "source": [
    "fig, axes = plt.subplots(1, 2, figsize=(8, 4))  \n",
    "\n",
    "predictions = [y_pred_4, y_pred_10]\n",
    "datasets = ['4 features', '10 features']\n",
    "\n",
    "for i, dataset in enumerate(datasets):\n",
    "    \n",
    "    cm = confusion_matrix(y_test_, predictions[i])\n",
    "    \n",
    "    cm = cm[::-1]  \n",
    "    \n",
    "    sns.heatmap(cm, annot=True, fmt='d', cmap='PuBu', xticklabels=['Benign', 'Malicious'], yticklabels=['Malicious', 'Benign'], \n",
    "                ax=axes[i], cbar=False, annot_kws={\"size\": 14})  \n",
    "    \n",
    "    axes[i].set_title(f'Confusion Matrix ({dataset})', fontsize=16)  \n",
    "    axes[i].set_xlabel('Predicted', fontsize=14) \n",
    "    axes[i].set_ylabel('Actual', fontsize=14)  \n",
    "\n",
    "plt.subplots_adjust(wspace=0.3)  \n",
    "\n",
    "plt.tight_layout()\n",
    "plt.show()"
   ]
  }
 ],
 "metadata": {
  "kernelspec": {
   "display_name": "Python 3",
   "language": "python",
   "name": "python3"
  },
  "language_info": {
   "codemirror_mode": {
    "name": "ipython",
    "version": 3
   },
   "file_extension": ".py",
   "mimetype": "text/x-python",
   "name": "python",
   "nbconvert_exporter": "python",
   "pygments_lexer": "ipython3",
   "version": "3.11.9"
  }
 },
 "nbformat": 4,
 "nbformat_minor": 2
}
